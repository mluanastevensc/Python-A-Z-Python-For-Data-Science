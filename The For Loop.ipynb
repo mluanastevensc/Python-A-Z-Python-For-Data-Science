{
 "cells": [
  {
   "cell_type": "code",
   "execution_count": 6,
   "id": "b02f36d8",
   "metadata": {},
   "outputs": [
    {
     "name": "stdout",
     "output_type": "stream",
     "text": [
      "0\n",
      "1\n",
      "2\n",
      "3\n",
      "4\n",
      "5\n",
      "6\n",
      "7\n",
      "8\n",
      "9\n",
      "10\n",
      "11\n",
      "Hello\n"
     ]
    }
   ],
   "source": [
    "counter =0\n",
    "while counter <12:\n",
    "    print(counter)\n",
    "    counter=counter+1\n",
    "print(\"Hello\")"
   ]
  },
  {
   "cell_type": "code",
   "execution_count": 4,
   "id": "70ef24e2",
   "metadata": {},
   "outputs": [
    {
     "name": "stdout",
     "output_type": "stream",
     "text": [
      "Add me on LinkedIn\n",
      "Add me on LinkedIn\n",
      "Add me on LinkedIn\n",
      "Add me on LinkedIn\n",
      "Add me on LinkedIn\n"
     ]
    }
   ],
   "source": [
    "for i in range (5):\n",
    "    print(\"Add me on LinkedIn\")"
   ]
  },
  {
   "cell_type": "code",
   "execution_count": 7,
   "id": "81340eb0",
   "metadata": {},
   "outputs": [
    {
     "name": "stdout",
     "output_type": "stream",
     "text": [
      "Hello Python 0\n",
      "Hello Python 1\n",
      "Hello Python 2\n",
      "Hello Python 3\n",
      "Hello Python 4\n"
     ]
    }
   ],
   "source": [
    "for i in range(5):\n",
    "    print(\"Hello Python\",i)"
   ]
  },
  {
   "cell_type": "code",
   "execution_count": 14,
   "id": "cc57f926",
   "metadata": {},
   "outputs": [
    {
     "name": "stdout",
     "output_type": "stream",
     "text": [
      " My i is equal to: 10\n",
      " My i is equal to: 100\n",
      " My i is equal to: 1000\n"
     ]
    }
   ],
   "source": [
    "mylist =[10,100,1000]\n",
    "for i in mylist:\n",
    "    print(\" My i is equal to:\",i)"
   ]
  },
  {
   "cell_type": "code",
   "execution_count": 15,
   "id": "577ff9e4",
   "metadata": {},
   "outputs": [
    {
     "name": "stdout",
     "output_type": "stream",
     "text": [
      " My i is equal to: 20\n",
      " My i is equal to: 110\n",
      " My i is equal to: 1010\n"
     ]
    }
   ],
   "source": [
    "mylist =[10,100,1000]\n",
    "for i in mylist:\n",
    "    print(\" My i is equal to:\",i+10)"
   ]
  }
 ],
 "metadata": {
  "kernelspec": {
   "display_name": "Python 3 (ipykernel)",
   "language": "python",
   "name": "python3"
  },
  "language_info": {
   "codemirror_mode": {
    "name": "ipython",
    "version": 3
   },
   "file_extension": ".py",
   "mimetype": "text/x-python",
   "name": "python",
   "nbconvert_exporter": "python",
   "pygments_lexer": "ipython3",
   "version": "3.9.12"
  }
 },
 "nbformat": 4,
 "nbformat_minor": 5
}
