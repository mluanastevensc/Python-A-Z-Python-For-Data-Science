{
 "cells": [
  {
   "cell_type": "code",
   "execution_count": 4,
   "id": "89797d31",
   "metadata": {},
   "outputs": [],
   "source": [
    "A =10\n",
    "B=5\n",
    "C=A+B\n",
    "D=B/A"
   ]
  },
  {
   "cell_type": "code",
   "execution_count": 8,
   "id": "3a186bab",
   "metadata": {},
   "outputs": [
    {
     "name": "stdout",
     "output_type": "stream",
     "text": [
      "15\n"
     ]
    }
   ],
   "source": [
    "print(C)"
   ]
  },
  {
   "cell_type": "code",
   "execution_count": 11,
   "id": "53cef179",
   "metadata": {},
   "outputs": [
    {
     "name": "stdout",
     "output_type": "stream",
     "text": [
      "0.5\n"
     ]
    }
   ],
   "source": [
    "print(D)"
   ]
  },
  {
   "cell_type": "markdown",
   "id": "247d961d",
   "metadata": {},
   "source": [
    "----"
   ]
  },
  {
   "cell_type": "code",
   "execution_count": 17,
   "id": "02487c93",
   "metadata": {},
   "outputs": [],
   "source": [
    "\n",
    "import math"
   ]
  },
  {
   "cell_type": "code",
   "execution_count": 20,
   "id": "7b154004",
   "metadata": {},
   "outputs": [
    {
     "data": {
      "text/plain": [
       "3.1622776601683795"
      ]
     },
     "execution_count": 20,
     "metadata": {},
     "output_type": "execute_result"
    }
   ],
   "source": [
    "math.sqrt(A)"
   ]
  },
  {
   "cell_type": "code",
   "execution_count": 21,
   "id": "a1157cf9",
   "metadata": {},
   "outputs": [
    {
     "data": {
      "text/plain": [
       "2.23606797749979"
      ]
     },
     "execution_count": 21,
     "metadata": {},
     "output_type": "execute_result"
    }
   ],
   "source": [
    "math.sqrt(B)"
   ]
  },
  {
   "cell_type": "code",
   "execution_count": 24,
   "id": "9229bed4",
   "metadata": {},
   "outputs": [
    {
     "data": {
      "text/plain": [
       "2.236"
      ]
     },
     "execution_count": 24,
     "metadata": {},
     "output_type": "execute_result"
    }
   ],
   "source": [
    "round(math.sqrt(B),3)"
   ]
  },
  {
   "cell_type": "code",
   "execution_count": 25,
   "id": "649732fe",
   "metadata": {},
   "outputs": [],
   "source": [
    "Greeting = \"Hello\"\n",
    "Name = \"Bob\""
   ]
  },
  {
   "cell_type": "code",
   "execution_count": 27,
   "id": "9d0801a3",
   "metadata": {},
   "outputs": [
    {
     "name": "stdout",
     "output_type": "stream",
     "text": [
      "Hello  Bob\n"
     ]
    }
   ],
   "source": [
    "print(Greeting,\"\",Name)"
   ]
  },
  {
   "cell_type": "code",
   "execution_count": null,
   "id": "6263b33a",
   "metadata": {},
   "outputs": [],
   "source": []
  }
 ],
 "metadata": {
  "kernelspec": {
   "display_name": "Python 3 (ipykernel)",
   "language": "python",
   "name": "python3"
  },
  "language_info": {
   "codemirror_mode": {
    "name": "ipython",
    "version": 3
   },
   "file_extension": ".py",
   "mimetype": "text/x-python",
   "name": "python",
   "nbconvert_exporter": "python",
   "pygments_lexer": "ipython3",
   "version": "3.9.12"
  }
 },
 "nbformat": 4,
 "nbformat_minor": 5
}
