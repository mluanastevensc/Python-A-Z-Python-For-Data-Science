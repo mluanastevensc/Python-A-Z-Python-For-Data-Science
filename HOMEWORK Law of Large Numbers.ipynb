{
 "cells": [
  {
   "cell_type": "code",
   "execution_count": 2,
   "id": "436ec11d",
   "metadata": {},
   "outputs": [],
   "source": [
    "import numpy as np\n",
    "import pandas as pd\n",
    "from numpy.random import randn"
   ]
  },
  {
   "cell_type": "code",
   "execution_count": 3,
   "id": "dbb82438",
   "metadata": {},
   "outputs": [
    {
     "name": "stdout",
     "output_type": "stream",
     "text": [
      "The mean Xn for 10 sample is: 80.0\n"
     ]
    }
   ],
   "source": [
    "sample_size=10\n",
    "sample_count=0\n",
    "for i in range(sample_size):\n",
    "    random=randn()\n",
    "    if random >=-1 and random <=1:\n",
    "        sample_count+=1\n",
    "total_number=(sample_count/sample_size)*100\n",
    "print(\"The mean Xn for 10 sample is:\", total_number)\n"
   ]
  }
 ],
 "metadata": {
  "kernelspec": {
   "display_name": "Python 3 (ipykernel)",
   "language": "python",
   "name": "python3"
  },
  "language_info": {
   "codemirror_mode": {
    "name": "ipython",
    "version": 3
   },
   "file_extension": ".py",
   "mimetype": "text/x-python",
   "name": "python",
   "nbconvert_exporter": "python",
   "pygments_lexer": "ipython3",
   "version": "3.9.12"
  }
 },
 "nbformat": 4,
 "nbformat_minor": 5
}
